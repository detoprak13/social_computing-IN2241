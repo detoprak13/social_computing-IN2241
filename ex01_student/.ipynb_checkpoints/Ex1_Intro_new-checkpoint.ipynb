{
 "cells": [
  {
   "cell_type": "markdown",
   "id": "068b7c45",
   "metadata": {},
   "source": [
    "# Social Computing/Social Gaming - Summer 2023\n",
    "# Exercise Sheet 1 - Introduction to Python and Network Visualization\n",
    "Welcome to the 2023 Social Computing / Social Gaming tutorial assignments. For all exercise sheets Python is the programming language of choice. This exercise sheet will therefore provide an introduction to Python for you. In the latter part of this exercise sheet you will take on your first Social Computing task.\n",
    "\n",
    "In addition to the iPython notebooks, it is recommended to have a look at the introduction videos and/or the introduction slides, both provided on Moodle, for every exercise sheet as they contain **helpful hints** and the **form of the assignment** which is **mandatory**!"
   ]
  },
  {
   "cell_type": "markdown",
   "id": "a4ec2c30",
   "metadata": {},
   "source": [
    "## Task 1.1: Sparse Vector Representation\n",
    "To get you prepared for using Python in the upcoming exercise sheets we will introduce some of Python's most important features on the example of sparse vectors. The basic idea is that sparse vectors (vectors whose positions are mostly zero) can be represented more efficiently by only saving a list of tuples containing the valueable data's position and its data. For example (0,0,0,4,0,0,42) would be represented by [(3,4),(6,42)]."
   ]
  },
  {
   "cell_type": "code",
   "execution_count": 115,
   "id": "8a542b1a",
   "metadata": {},
   "outputs": [],
   "source": [
    "ExampleVector1 = [0, 0, 0, 4, 0, 0, 42]\n",
    "ExampleVector2 = [0, 10, 0, 0, 0, 0, 8, 0, 0, 15]\n"
   ]
  },
  {
   "cell_type": "markdown",
   "id": "549ebbd0",
   "metadata": {},
   "source": [
    "**a)** As the first step, **complete** the ``sparseVectorTransform()`` function so that it transforms the given vector to a list of tuples as stated in the example above. Create reasonable ``ExampleVectors`` in the block above to test your function.\n",
    "\n",
    "**Hint:** You can use ``enumerate()`` in a for-loop. You can also use print(type(variable)) if u want to know the type."
   ]
  },
  {
   "cell_type": "code",
   "execution_count": 116,
   "id": "dd580953",
   "metadata": {},
   "outputs": [],
   "source": [
    "def sparseVectorTransform(vector):\n",
    "    sparse_data = []\n",
    "    for i, value in enumerate(vector):\n",
    "        if value != 0:\n",
    "            sparse_data.append((i, value))\n",
    "    return sparse_data"
   ]
  },
  {
   "cell_type": "markdown",
   "id": "b0679744",
   "metadata": {},
   "source": [
    "**b)** In Python variables are not assigned to a fixed datatype in contrast to Java for example. Resulting from this, lists for example can contain different datatypes for its element even a function can be stored in a variable or list!\n",
    "Below you can see ``combineSVs()`` which combines two of our sparse vectors in tupel representation into one by only considering positions that are set in both vectors. The data entries for the respective position are combined with use of the handed over function. As you can see the function is handed over just like regular parameters in Python."
   ]
  },
  {
   "cell_type": "code",
   "execution_count": 117,
   "id": "a3d9fc38",
   "metadata": {},
   "outputs": [],
   "source": [
    "def combineSVs(func:callable,SV1:list,SV2:list)-> list:\n",
    "    returnlist = []\n",
    "    for element1 in SV1:\n",
    "        for element2 in SV2:\n",
    "            if element1[0] == element2[0]: returnlist.append( (element1[0], func(element1[1],element2[1])))\n",
    "    return returnlist"
   ]
  },
  {
   "cell_type": "markdown",
   "id": "784fc28d",
   "metadata": {},
   "source": [
    "It is now your task to **define** such a combining function to hand over to the `combineSVs()`. As we will only know at runtime what datatypes are contained in the vector, this function first needs to check which datatypes the given parameters have. For this task we will allow the vectors to contain Integers, Strings and Functions.\n",
    "Depending on datatypes, the result for their combination should be:\n",
    "- Integer & Integer => Add both Integers\n",
    "- String & String => Concatenate both String sequences\n",
    "- String & Integer => Add the Integer as character at the end of the String\n",
    "- Integer & String => Multiply the String sequence by Integer.\n",
    "- Function & (String||Integer) => The result of the Function with the String or Integer as its parameter"
   ]
  },
  {
   "cell_type": "markdown",
   "id": "d1359856",
   "metadata": {},
   "source": [
    "**Hint:** https://docs.python.org/3/library/functions.html#isinstance\n",
    "https://docs.python.org/3/library/functions.html#callable\n"
   ]
  },
  {
   "cell_type": "code",
   "execution_count": 118,
   "id": "1268a7cc",
   "metadata": {},
   "outputs": [],
   "source": [
    "def combineElements (element1,element2):\n",
    "    if isinstance(element1, int) and isinstance(element2, int):\n",
    "        return element1 + element2\n",
    "    elif isinstance(element1, str) and isinstance(element2, str):\n",
    "        return element1 + element2\n",
    "    elif isinstance(element1, str) and isinstance(element2, int):\n",
    "        return element1 + str(element2)\n",
    "    elif isinstance(element1, int) and isinstance(element2, str):\n",
    "        return element2 * element1\n",
    "    elif callable(element1) and (isinstance(element2, int) or isinstance(element2, str)):\n",
    "        return element1(element2)\n",
    "    \n",
    "    \n",
    "    #If the elements' datatypes do not fit any of our combination this exception will be thrown\n",
    "    raise TypeError(\"Zulässige Kombinationen der Datentypen nicht eingehalten!\")"
   ]
  },
  {
   "cell_type": "markdown",
   "id": "82115c42",
   "metadata": {},
   "source": [
    "**c)** The vectors below contain all possible combinations specified above. Use them to **compute** your final combined sparse vector in tuple representation. Then shortly **explain** in your own words the chances and pitfalls of Python's datatype independent variables. Three sentences will be sufficient."
   ]
  },
  {
   "cell_type": "code",
   "execution_count": 119,
   "id": "ff46068b",
   "metadata": {
    "scrolled": true
   },
   "outputs": [
    {
     "name": "stdout",
     "output_type": "stream",
     "text": [
      "[(0, 4), (1, 'Hello worldHello world'), (2, 'Hallo Welt4'), (3, 3)]\n"
     ]
    }
   ],
   "source": [
    "v1 = (1,2,'Hallo Welt',len)\n",
    "v2 = (3,'Hello world',4,'123')\n",
    "print(combineSVs(combineElements, sparseVectorTransform(v1), sparseVectorTransform((v2))))"
   ]
  },
  {
   "cell_type": "markdown",
   "id": "a5777de4",
   "metadata": {},
   "source": [
    "As example (0,0,0,4,0,0,42) and (0,0,0,4,0,0,42) with print(combineSVs(combineElements, sparseVectorTransform((0,0,0,4,0,0,42)), sparseVectorTransform(((0,0,0,4,0,0,42))))) results in: [(3, 8), (6, 84)]\n",
    "\n"
   ]
  },
  {
   "cell_type": "markdown",
   "id": "91368760",
   "metadata": {},
   "source": [
    "**TODO: Write your explanation here:**\n",
    "Python's datatype independent variables allow flexibility in storing and manipulating different types of data within the same container like lists. This flexibility enables dynamic programming and accommodates diverse scenarios where data types may vary. However, it also introduces the risk of unexpected behavior or errors if data types are not handled appropriately. Also, the code's readability can be affected badly when dealing with variables that can hold different data types."
   ]
  },
  {
   "cell_type": "markdown",
   "id": "4faf51ac",
   "metadata": {},
   "source": [
    "## Task 1.2: Twitch Social Network with NetworkX\n",
    "\n",
    "For your second task you will now take your first steps into Social Computing / Social Gaming. We will therefore have a look at German streamers from [Twitch](https://www.twitch.tv/) [1]. Twitch is an international platform for live-streaming games or other content. The data set [2] has been created in 2019 and contains lots of information about different streamers. \n",
    "For our tasks we will only consider the German Twitch-streamers. Twitch offers lots of functionalities including a friendship system. The task is to draw a graph representing the **friendship network** of the hundred most watched German streamers."
   ]
  },
  {
   "cell_type": "code",
   "execution_count": 179,
   "id": "0dbf1908",
   "metadata": {},
   "outputs": [],
   "source": [
    "#Import the required libraries\n",
    "import networkx as nx\n",
    "import pandas as pd\n",
    "import matplotlib.pyplot as plt"
   ]
  },
  {
   "cell_type": "markdown",
   "id": "7ed1a4fe",
   "metadata": {},
   "source": [
    "**Read** in the data set by using the **Pandas** library [3]. For a quick overview, you can refer to [4]. Pandas provides a powerful data structure called the ''DataFrame'' which is widely used in data science and machine learning. For your exercise sheets it will always come in handy to have a look at the used package's **documentations** online!\n",
    "\n",
    "**Inspect** the three dataframes to fully understand what they contain. Don't confuse the Twitch IDs (``id``) with the node's IDs for our data set (``new_id``), which will form the key for our dataset.\n",
    "\n",
    "**Hint:** You can have a look at the first entries of your Pandas data-frames with `Dataframe.head(10)`."
   ]
  },
  {
   "cell_type": "code",
   "execution_count": 180,
   "id": "e130c149",
   "metadata": {},
   "outputs": [],
   "source": [
    "#Contains a multitude of information about the streamers (adressed by their Twitch IDs).\n",
    "nodes_DF = pd.read_csv('musae_DE_target.csv')\n",
    "#Contains the friendship relations between streamers.\n",
    "edges_DF = pd.read_csv('musae_DE_edges.csv')\n",
    "#Contains the names of the top 100 Twitch-streamer for their Twitch IDs.\n",
    "twitchNames_DF = pd.read_csv('TwitchIDList.csv')"
   ]
  },
  {
   "cell_type": "markdown",
   "id": "1ff2081d",
   "metadata": {},
   "source": [
    "**a)** First, we will deal with our graph's nodes, the streamers. \n",
    "We are only interested in streamers who have been streaming for more than 2000 days. **Filter** the data to contain only such rows.\n",
    "There are some columns we will not need later. **Remove** the unnecessary information by **dropping** the `id`, ``days`` and ``mature`` columns from ``nodes_DF``. \n",
    "Then, to limit our data on the 100 most viewed streamers **order** ``nodes_DF`` by ``views`` and only **keep** the first 100 entries as ``orderedNodes_DF``."
   ]
  },
  {
   "cell_type": "code",
   "execution_count": 185,
   "id": "c9c267d8",
   "metadata": {},
   "outputs": [],
   "source": [
    "#print(nodes_DF)\n",
    "filtered_nodes_DF = nodes_DF[nodes_DF['days'] > 2000]\n",
    "#print(filtered_nodes_DF)\n",
    "filtered_nodes_DF = filtered_nodes_DF.drop(['id', 'days', 'mature'], axis=1)\n",
    "#print(filtered_nodes_DF)\n",
    "orderedNodes_DF = filtered_nodes_DF.sort_values(by='views', ascending=False).head(100)\n"
   ]
  },
  {
   "cell_type": "markdown",
   "id": "6ea2506e",
   "metadata": {},
   "source": [
    "**b)** Now we need to work on the friendship data-frame, our graph's edges. As we will only draw the top 100 streamers as nodes, we are only interested in friendship relations in between these 100 nodes. The relations are represented as \"from\"->\"to\" even though the friendship relation is considered undirected.\n",
    "\n",
    "**Fill** the list  ``drop_indices`` with all entry's indices that have their target outside of our 100 nodes. Therefore go through all entries of `edges_DF` and check if their ``to`` value is contained in ``nodesList``.\n",
    "Then **drop** all the respective entries from our data-frame.\n",
    "\n",
    "**Hint:** We do not need to worry about the ``from`` values as our merging process will take care of that part in the next task."
   ]
  },
  {
   "cell_type": "code",
   "execution_count": 186,
   "id": "bab077be",
   "metadata": {},
   "outputs": [
    {
     "name": "stdout",
     "output_type": "stream",
     "text": [
      "        from    to\n",
      "0          0  9206\n",
      "1          0  7787\n",
      "2          0  2145\n",
      "3          0  2684\n",
      "4          0  7275\n",
      "...      ...   ...\n",
      "153133  2547  2092\n",
      "153134  9461  2092\n",
      "153135  9295  7802\n",
      "153136  7436  9487\n",
      "153137  1793  9194\n",
      "\n",
      "[153138 rows x 2 columns]\n",
      "84\n"
     ]
    }
   ],
   "source": [
    "drop_indices = []\n",
    "nodesList = orderedNodes_DF['new_id'].tolist()\n",
    "print(edges_DF)\n",
    "\n",
    "for index, row in edges_DF.iterrows():\n",
    "    if row['from'] not in nodesList or row['to'] not in nodesList:\n",
    "        drop_indices.append(index)\n",
    "\n",
    "filtered_edges_DF = edges_DF.drop(drop_indices)\n",
    "print(len(filtered_edges_DF['from'].unique()))"
   ]
  },
  {
   "cell_type": "markdown",
   "id": "0d9db3e1",
   "metadata": {},
   "source": [
    "**c)** For the next step, we now have to **merge** our dataframes. This works similar to a SQL Join operation. We want to use an **'inner' merge** (similar to an \"inner\"==\"normal\" join in SQL) and make sure the nodes ID matches the friendship relation's origin. Thus it will only consider any friendships of our 100 nodes.\n",
    "\n",
    "\n",
    "SQL-join:\n",
    "https://www.w3schools.com/sql/sql_join.asp"
   ]
  },
  {
   "cell_type": "code",
   "execution_count": 187,
   "id": "b3f7c9e6",
   "metadata": {
    "scrolled": false
   },
   "outputs": [
    {
     "name": "stdout",
     "output_type": "stream",
     "text": [
      "        views  partner  new_id  from    to\n",
      "0    54516100     True    7787  7787  2839\n",
      "1    54516100     True    7787  7787  7802\n",
      "2    54516100     True    7787  7787  7980\n",
      "3    54516100     True    7787  7787  8127\n",
      "4    54516100     True    7787  7787  8554\n",
      "..        ...      ...     ...   ...   ...\n",
      "556    806294     True    5519  5519  6073\n",
      "557    799814     True    1451  1451  8554\n",
      "558    799814     True    1451  1451  7802\n",
      "559    799814     True    1451  1451  5834\n",
      "560    799814     True    1451  1451  3115\n",
      "\n",
      "[561 rows x 5 columns]\n"
     ]
    }
   ],
   "source": [
    "merged_DF = pd.merge(orderedNodes_DF, filtered_edges_DF, left_on='new_id', right_on='from', how='inner')\n",
    "print(merged_DF)"
   ]
  },
  {
   "cell_type": "markdown",
   "id": "59769a2e",
   "metadata": {},
   "source": [
    "Now networkX [5] **reads** all the edges from our dataframe and creates a Graph object. **Take a look** at the number of nodes in your graph. **Explain** your observations shortly."
   ]
  },
  {
   "cell_type": "code",
   "execution_count": 188,
   "id": "103663d8",
   "metadata": {},
   "outputs": [
    {
     "name": "stdout",
     "output_type": "stream",
     "text": [
      "        views  partner  new_id  from    to\n",
      "0    54516100     True    7787  7787  2839\n",
      "1    54516100     True    7787  7787  7802\n",
      "2    54516100     True    7787  7787  7980\n",
      "3    54516100     True    7787  7787  8127\n",
      "4    54516100     True    7787  7787  8554\n",
      "..        ...      ...     ...   ...   ...\n",
      "556    806294     True    5519  5519  6073\n",
      "557    799814     True    1451  1451  8554\n",
      "558    799814     True    1451  1451  7802\n",
      "559    799814     True    1451  1451  5834\n",
      "560    799814     True    1451  1451  3115\n",
      "\n",
      "[561 rows x 5 columns]\n",
      "Number of nodes: 92\n"
     ]
    }
   ],
   "source": [
    "graph = nx.from_pandas_edgelist(merged_DF, \"new_id\", \"to\")\n",
    "\n",
    "num_nodes = graph.number_of_nodes()\n",
    "\n",
    "print(merged_DF)\n",
    "\n",
    "print(\"Number of nodes:\", num_nodes)"
   ]
  },
  {
   "cell_type": "markdown",
   "id": "c89464b0",
   "metadata": {},
   "source": [
    "The number of nodes in the graph represents the count of unique nodes present in the merged dataframe.\n",
    "#TODO: buraya bişeyler koy"
   ]
  },
  {
   "cell_type": "markdown",
   "id": "04a0d0f7",
   "metadata": {},
   "source": [
    "**d)** Before we finally draw our graph, lets add some **additional information** to it. We want to represent if the respective streamer is an official Twitch-partner by the **color** of a node.  The ``partner`` column in our dataframe will provide you with the partner-status. \n",
    "\n",
    "All entries were represented by their ID until now. To make our graph readable we want to name all nodes with the streamers' actual names that are contained in ``twitchNames_DF``. You have now to **create two dictionaries** that map the nodes ID to its partner state and streamer's name.\n",
    "\n",
    "Thereafter the given code will create the colormap from your dictionary, that will later be used to apply the colors to our graph. Then the graph object is created.\n",
    "\n",
    "**Hint:** As ``twitchNames_DF`` only contains the most 100 viewed streamer's names you can use it as an indicator whether you have solved everything correctly."
   ]
  },
  {
   "cell_type": "code",
   "execution_count": 189,
   "id": "7486ebd7",
   "metadata": {},
   "outputs": [
    {
     "name": "stdout",
     "output_type": "stream",
     "text": [
      "84\n",
      "561\n",
      "100\n",
      "92\n"
     ]
    }
   ],
   "source": [
    "\n",
    "partnerState_dict = dict(zip(merged_DF['new_id'], merged_DF['partner']))\n",
    "twitchNames_dict = dict(zip(twitchNames_DF['new_id'], twitchNames_DF['TwitchName']))\n",
    "\n",
    "print(len(partnerState_dict))\n",
    "print(len(merged_DF))\n",
    "print(len(twitchNames_dict))\n",
    "print(len(graph))\n",
    "\n",
    "# display(merged_DF)\n",
    "\n",
    "colormap = []\n",
    "for node in graph:\n",
    "#     print(node)\n",
    "    if(node in partnerState_dict and partnerState_dict[node] == True):\n",
    "        colormap.append('Purple')\n",
    "    else:\n",
    "        colormap.append('Blue')\n",
    "\n",
    "graph = nx.relabel_nodes(graph, twitchNames_dict)"
   ]
  },
  {
   "cell_type": "markdown",
   "id": "a3f66541",
   "metadata": {},
   "source": [
    "**e)** Now to conclude your first exercise sheet you can finally draw the graph. NetworkX offers you multiple pre-defined **[graph layouts](https://networkx.org/documentation/stable/reference/drawing.html#module-networkx.drawing.layout)** [6] that you can use. Don't forget to make use of the ``colormap`` and the set options! Matplotlib will then print your graph.\n",
    "\n",
    "**Try** out the different layouts and chose two that fit the graph well. Then **explain** why they fit well and what **observations** you could draw from our visualized network shortly!"
   ]
  },
  {
   "cell_type": "code",
   "execution_count": 190,
   "id": "66cb4134",
   "metadata": {
    "scrolled": true
   },
   "outputs": [
    {
     "name": "stdout",
     "output_type": "stream",
     "text": [
      "Graph with 49 nodes and 273 edges\n"
     ]
    },
    {
     "ename": "ValueError",
     "evalue": "'c' argument has 92 elements, which is inconsistent with 'x' and 'y' with size 49.",
     "output_type": "error",
     "traceback": [
      "\u001b[1;31m---------------------------------------------------------------------------\u001b[0m",
      "\u001b[1;31mValueError\u001b[0m                                Traceback (most recent call last)",
      "Input \u001b[1;32mIn [190]\u001b[0m, in \u001b[0;36m<cell line: 12>\u001b[1;34m()\u001b[0m\n\u001b[0;32m      7\u001b[0m \u001b[38;5;28mprint\u001b[39m(graph)\n\u001b[0;32m      9\u001b[0m \u001b[38;5;66;03m#TODO: Draw the network. Hint: Use the draw_networkx method instead of draw.\u001b[39;00m\n\u001b[0;32m     10\u001b[0m \u001b[38;5;66;03m# nx.draw_networkx(graph, pos=nx.circular_layout(graph), node_color=colormap, **options)\u001b[39;00m\n\u001b[1;32m---> 12\u001b[0m nx\u001b[38;5;241m.\u001b[39mdraw_networkx(graph, pos\u001b[38;5;241m=\u001b[39mnx\u001b[38;5;241m.\u001b[39mspring_layout(graph), node_color\u001b[38;5;241m=\u001b[39mcolormap, \u001b[38;5;241m*\u001b[39m\u001b[38;5;241m*\u001b[39moptions)\n\u001b[0;32m     15\u001b[0m plt\u001b[38;5;241m.\u001b[39mshow()\n",
      "File \u001b[1;32m~\\AppData\\Local\\Programs\\Python\\Python39\\lib\\site-packages\\networkx\\drawing\\nx_pylab.py:333\u001b[0m, in \u001b[0;36mdraw_networkx\u001b[1;34m(G, pos, arrows, with_labels, **kwds)\u001b[0m\n\u001b[0;32m    330\u001b[0m \u001b[38;5;28;01mif\u001b[39;00m pos \u001b[38;5;129;01mis\u001b[39;00m \u001b[38;5;28;01mNone\u001b[39;00m:\n\u001b[0;32m    331\u001b[0m     pos \u001b[38;5;241m=\u001b[39m nx\u001b[38;5;241m.\u001b[39mdrawing\u001b[38;5;241m.\u001b[39mspring_layout(G)  \u001b[38;5;66;03m# default to spring layout\u001b[39;00m\n\u001b[1;32m--> 333\u001b[0m draw_networkx_nodes(G, pos, \u001b[38;5;241m*\u001b[39m\u001b[38;5;241m*\u001b[39mnode_kwds)\n\u001b[0;32m    334\u001b[0m draw_networkx_edges(G, pos, arrows\u001b[38;5;241m=\u001b[39marrows, \u001b[38;5;241m*\u001b[39m\u001b[38;5;241m*\u001b[39medge_kwds)\n\u001b[0;32m    335\u001b[0m \u001b[38;5;28;01mif\u001b[39;00m with_labels:\n",
      "File \u001b[1;32m~\\AppData\\Local\\Programs\\Python\\Python39\\lib\\site-packages\\networkx\\drawing\\nx_pylab.py:462\u001b[0m, in \u001b[0;36mdraw_networkx_nodes\u001b[1;34m(G, pos, nodelist, node_size, node_color, node_shape, alpha, cmap, vmin, vmax, ax, linewidths, edgecolors, label, margins)\u001b[0m\n\u001b[0;32m    459\u001b[0m     node_color \u001b[38;5;241m=\u001b[39m apply_alpha(node_color, alpha, nodelist, cmap, vmin, vmax)\n\u001b[0;32m    460\u001b[0m     alpha \u001b[38;5;241m=\u001b[39m \u001b[38;5;28;01mNone\u001b[39;00m\n\u001b[1;32m--> 462\u001b[0m node_collection \u001b[38;5;241m=\u001b[39m \u001b[43max\u001b[49m\u001b[38;5;241;43m.\u001b[39;49m\u001b[43mscatter\u001b[49m\u001b[43m(\u001b[49m\n\u001b[0;32m    463\u001b[0m \u001b[43m    \u001b[49m\u001b[43mxy\u001b[49m\u001b[43m[\u001b[49m\u001b[43m:\u001b[49m\u001b[43m,\u001b[49m\u001b[43m \u001b[49m\u001b[38;5;241;43m0\u001b[39;49m\u001b[43m]\u001b[49m\u001b[43m,\u001b[49m\n\u001b[0;32m    464\u001b[0m \u001b[43m    \u001b[49m\u001b[43mxy\u001b[49m\u001b[43m[\u001b[49m\u001b[43m:\u001b[49m\u001b[43m,\u001b[49m\u001b[43m \u001b[49m\u001b[38;5;241;43m1\u001b[39;49m\u001b[43m]\u001b[49m\u001b[43m,\u001b[49m\n\u001b[0;32m    465\u001b[0m \u001b[43m    \u001b[49m\u001b[43ms\u001b[49m\u001b[38;5;241;43m=\u001b[39;49m\u001b[43mnode_size\u001b[49m\u001b[43m,\u001b[49m\n\u001b[0;32m    466\u001b[0m \u001b[43m    \u001b[49m\u001b[43mc\u001b[49m\u001b[38;5;241;43m=\u001b[39;49m\u001b[43mnode_color\u001b[49m\u001b[43m,\u001b[49m\n\u001b[0;32m    467\u001b[0m \u001b[43m    \u001b[49m\u001b[43mmarker\u001b[49m\u001b[38;5;241;43m=\u001b[39;49m\u001b[43mnode_shape\u001b[49m\u001b[43m,\u001b[49m\n\u001b[0;32m    468\u001b[0m \u001b[43m    \u001b[49m\u001b[43mcmap\u001b[49m\u001b[38;5;241;43m=\u001b[39;49m\u001b[43mcmap\u001b[49m\u001b[43m,\u001b[49m\n\u001b[0;32m    469\u001b[0m \u001b[43m    \u001b[49m\u001b[43mvmin\u001b[49m\u001b[38;5;241;43m=\u001b[39;49m\u001b[43mvmin\u001b[49m\u001b[43m,\u001b[49m\n\u001b[0;32m    470\u001b[0m \u001b[43m    \u001b[49m\u001b[43mvmax\u001b[49m\u001b[38;5;241;43m=\u001b[39;49m\u001b[43mvmax\u001b[49m\u001b[43m,\u001b[49m\n\u001b[0;32m    471\u001b[0m \u001b[43m    \u001b[49m\u001b[43malpha\u001b[49m\u001b[38;5;241;43m=\u001b[39;49m\u001b[43malpha\u001b[49m\u001b[43m,\u001b[49m\n\u001b[0;32m    472\u001b[0m \u001b[43m    \u001b[49m\u001b[43mlinewidths\u001b[49m\u001b[38;5;241;43m=\u001b[39;49m\u001b[43mlinewidths\u001b[49m\u001b[43m,\u001b[49m\n\u001b[0;32m    473\u001b[0m \u001b[43m    \u001b[49m\u001b[43medgecolors\u001b[49m\u001b[38;5;241;43m=\u001b[39;49m\u001b[43medgecolors\u001b[49m\u001b[43m,\u001b[49m\n\u001b[0;32m    474\u001b[0m \u001b[43m    \u001b[49m\u001b[43mlabel\u001b[49m\u001b[38;5;241;43m=\u001b[39;49m\u001b[43mlabel\u001b[49m\u001b[43m,\u001b[49m\n\u001b[0;32m    475\u001b[0m \u001b[43m\u001b[49m\u001b[43m)\u001b[49m\n\u001b[0;32m    476\u001b[0m ax\u001b[38;5;241m.\u001b[39mtick_params(\n\u001b[0;32m    477\u001b[0m     axis\u001b[38;5;241m=\u001b[39m\u001b[38;5;124m\"\u001b[39m\u001b[38;5;124mboth\u001b[39m\u001b[38;5;124m\"\u001b[39m,\n\u001b[0;32m    478\u001b[0m     which\u001b[38;5;241m=\u001b[39m\u001b[38;5;124m\"\u001b[39m\u001b[38;5;124mboth\u001b[39m\u001b[38;5;124m\"\u001b[39m,\n\u001b[1;32m   (...)\u001b[0m\n\u001b[0;32m    482\u001b[0m     labelleft\u001b[38;5;241m=\u001b[39m\u001b[38;5;28;01mFalse\u001b[39;00m,\n\u001b[0;32m    483\u001b[0m )\n\u001b[0;32m    485\u001b[0m \u001b[38;5;28;01mif\u001b[39;00m margins \u001b[38;5;129;01mis\u001b[39;00m \u001b[38;5;129;01mnot\u001b[39;00m \u001b[38;5;28;01mNone\u001b[39;00m:\n",
      "File \u001b[1;32m~\\AppData\\Roaming\\Python\\Python39\\site-packages\\matplotlib\\__init__.py:1412\u001b[0m, in \u001b[0;36m_preprocess_data.<locals>.inner\u001b[1;34m(ax, data, *args, **kwargs)\u001b[0m\n\u001b[0;32m   1409\u001b[0m \u001b[38;5;129m@functools\u001b[39m\u001b[38;5;241m.\u001b[39mwraps(func)\n\u001b[0;32m   1410\u001b[0m \u001b[38;5;28;01mdef\u001b[39;00m \u001b[38;5;21minner\u001b[39m(ax, \u001b[38;5;241m*\u001b[39margs, data\u001b[38;5;241m=\u001b[39m\u001b[38;5;28;01mNone\u001b[39;00m, \u001b[38;5;241m*\u001b[39m\u001b[38;5;241m*\u001b[39mkwargs):\n\u001b[0;32m   1411\u001b[0m     \u001b[38;5;28;01mif\u001b[39;00m data \u001b[38;5;129;01mis\u001b[39;00m \u001b[38;5;28;01mNone\u001b[39;00m:\n\u001b[1;32m-> 1412\u001b[0m         \u001b[38;5;28;01mreturn\u001b[39;00m func(ax, \u001b[38;5;241m*\u001b[39m\u001b[38;5;28mmap\u001b[39m(sanitize_sequence, args), \u001b[38;5;241m*\u001b[39m\u001b[38;5;241m*\u001b[39mkwargs)\n\u001b[0;32m   1414\u001b[0m     bound \u001b[38;5;241m=\u001b[39m new_sig\u001b[38;5;241m.\u001b[39mbind(ax, \u001b[38;5;241m*\u001b[39margs, \u001b[38;5;241m*\u001b[39m\u001b[38;5;241m*\u001b[39mkwargs)\n\u001b[0;32m   1415\u001b[0m     auto_label \u001b[38;5;241m=\u001b[39m (bound\u001b[38;5;241m.\u001b[39marguments\u001b[38;5;241m.\u001b[39mget(label_namer)\n\u001b[0;32m   1416\u001b[0m                   \u001b[38;5;129;01mor\u001b[39;00m bound\u001b[38;5;241m.\u001b[39mkwargs\u001b[38;5;241m.\u001b[39mget(label_namer))\n",
      "File \u001b[1;32m~\\AppData\\Roaming\\Python\\Python39\\site-packages\\matplotlib\\axes\\_axes.py:4387\u001b[0m, in \u001b[0;36mAxes.scatter\u001b[1;34m(self, x, y, s, c, marker, cmap, norm, vmin, vmax, alpha, linewidths, edgecolors, plotnonfinite, **kwargs)\u001b[0m\n\u001b[0;32m   4384\u001b[0m \u001b[38;5;28;01mif\u001b[39;00m edgecolors \u001b[38;5;129;01mis\u001b[39;00m \u001b[38;5;28;01mNone\u001b[39;00m:\n\u001b[0;32m   4385\u001b[0m     orig_edgecolor \u001b[38;5;241m=\u001b[39m kwargs\u001b[38;5;241m.\u001b[39mget(\u001b[38;5;124m'\u001b[39m\u001b[38;5;124medgecolor\u001b[39m\u001b[38;5;124m'\u001b[39m, \u001b[38;5;28;01mNone\u001b[39;00m)\n\u001b[0;32m   4386\u001b[0m c, colors, edgecolors \u001b[38;5;241m=\u001b[39m \\\n\u001b[1;32m-> 4387\u001b[0m     \u001b[38;5;28;43mself\u001b[39;49m\u001b[38;5;241;43m.\u001b[39;49m\u001b[43m_parse_scatter_color_args\u001b[49m\u001b[43m(\u001b[49m\n\u001b[0;32m   4388\u001b[0m \u001b[43m        \u001b[49m\u001b[43mc\u001b[49m\u001b[43m,\u001b[49m\u001b[43m \u001b[49m\u001b[43medgecolors\u001b[49m\u001b[43m,\u001b[49m\u001b[43m \u001b[49m\u001b[43mkwargs\u001b[49m\u001b[43m,\u001b[49m\u001b[43m \u001b[49m\u001b[43mx\u001b[49m\u001b[38;5;241;43m.\u001b[39;49m\u001b[43msize\u001b[49m\u001b[43m,\u001b[49m\n\u001b[0;32m   4389\u001b[0m \u001b[43m        \u001b[49m\u001b[43mget_next_color_func\u001b[49m\u001b[38;5;241;43m=\u001b[39;49m\u001b[38;5;28;43mself\u001b[39;49m\u001b[38;5;241;43m.\u001b[39;49m\u001b[43m_get_patches_for_fill\u001b[49m\u001b[38;5;241;43m.\u001b[39;49m\u001b[43mget_next_color\u001b[49m\u001b[43m)\u001b[49m\n\u001b[0;32m   4391\u001b[0m \u001b[38;5;28;01mif\u001b[39;00m plotnonfinite \u001b[38;5;129;01mand\u001b[39;00m colors \u001b[38;5;129;01mis\u001b[39;00m \u001b[38;5;28;01mNone\u001b[39;00m:\n\u001b[0;32m   4392\u001b[0m     c \u001b[38;5;241m=\u001b[39m np\u001b[38;5;241m.\u001b[39mma\u001b[38;5;241m.\u001b[39mmasked_invalid(c)\n",
      "File \u001b[1;32m~\\AppData\\Roaming\\Python\\Python39\\site-packages\\matplotlib\\axes\\_axes.py:4237\u001b[0m, in \u001b[0;36mAxes._parse_scatter_color_args\u001b[1;34m(c, edgecolors, kwargs, xsize, get_next_color_func)\u001b[0m\n\u001b[0;32m   4233\u001b[0m     \u001b[38;5;28;01melse\u001b[39;00m:\n\u001b[0;32m   4234\u001b[0m         \u001b[38;5;28;01mif\u001b[39;00m \u001b[38;5;28mlen\u001b[39m(colors) \u001b[38;5;129;01mnot\u001b[39;00m \u001b[38;5;129;01min\u001b[39;00m (\u001b[38;5;241m0\u001b[39m, \u001b[38;5;241m1\u001b[39m, xsize):\n\u001b[0;32m   4235\u001b[0m             \u001b[38;5;66;03m# NB: remember that a single color is also acceptable.\u001b[39;00m\n\u001b[0;32m   4236\u001b[0m             \u001b[38;5;66;03m# Besides *colors* will be an empty array if c == 'none'.\u001b[39;00m\n\u001b[1;32m-> 4237\u001b[0m             \u001b[38;5;28;01mraise\u001b[39;00m invalid_shape_exception(\u001b[38;5;28mlen\u001b[39m(colors), xsize)\n\u001b[0;32m   4238\u001b[0m \u001b[38;5;28;01melse\u001b[39;00m:\n\u001b[0;32m   4239\u001b[0m     colors \u001b[38;5;241m=\u001b[39m \u001b[38;5;28;01mNone\u001b[39;00m  \u001b[38;5;66;03m# use cmap, norm after collection is created\u001b[39;00m\n",
      "\u001b[1;31mValueError\u001b[0m: 'c' argument has 92 elements, which is inconsistent with 'x' and 'y' with size 49."
     ]
    },
    {
     "data": {
      "image/png": "[encoded data removed]",
      "text/plain": [
       "<Figure size 4000x4000 with 1 Axes>"
      ]
     },
     "metadata": {},
     "output_type": "display_data"
    }
   ],
   "source": [
    "plt.figure(1,figsize=(40,40)) \n",
    "options = {\n",
    "    \"font_size\" : 30,\n",
    "    \"edge_color\": 'lightGrey'\n",
    "    }\n",
    "\n",
    "print(graph)\n",
    "\n",
    "#TODO: Draw the network. Hint: Use the draw_networkx method instead of draw.\n",
    "# nx.draw_networkx(graph, pos=nx.circular_layout(graph), node_color=colormap, **options)\n",
    "\n",
    "nx.draw_networkx(graph, pos=nx.spring_layout(graph), node_color=colormap, **options)\n",
    "\n",
    "\n",
    "plt.show()"
   ]
  },
  {
   "cell_type": "markdown",
   "id": "3dc0794c",
   "metadata": {},
   "source": [
    "**TODO: Write your explanation and observations here:**"
   ]
  },
  {
   "cell_type": "markdown",
   "id": "d361953d",
   "metadata": {},
   "source": [
    "## References\n",
    "\n",
    "<br>[1] https://www.twitch.tv/\n",
    "<br>[2] Rozemberczki, B., Allen, C. & Sarkar, R. (2019). *Multi-scale Attributed Node Embedding*\n",
    "<br>[3] https://pandas.pydata.org/docs/getting_started/index.html\n",
    "<br>[4] https://pandas.pydata.org/docs/user_guide/10min.html\n",
    "<br>[5] https://networkx.org/documentation/stable/reference/index.html\n",
    "<br>[6] https://networkx.org/documentation/stable/reference/drawing.html#module-networkx.drawing.layout"
   ]
  }
 ],
 "metadata": {
  "kernelspec": {
   "display_name": "Python 3 (ipykernel)",
   "language": "python",
   "name": "python3"
  },
  "language_info": {
   "codemirror_mode": {
    "name": "ipython",
    "version": 3
   },
   "file_extension": ".py",
   "mimetype": "text/x-python",
   "name": "python",
   "nbconvert_exporter": "python",
   "pygments_lexer": "ipython3",
   "version": "3.9.9"
  }
 },
 "nbformat": 4,
 "nbformat_minor": 5
}
